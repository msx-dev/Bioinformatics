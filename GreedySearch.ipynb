{
 "cells": [
  {
   "cell_type": "code",
   "execution_count": 2,
   "id": "3b17554a",
   "metadata": {},
   "outputs": [],
   "source": [
    "def hamming(p1, p2):\n",
    "    d = 0\n",
    "    for i in range(len(p1)):\n",
    "        if p1[i] != p2[i]:\n",
    "            d += 1\n",
    "    return(d)\n",
    "\n",
    "def MedianString(infile):\n",
    "\n",
    "    # open infile\n",
    "    with open(infile, 'r') as file:\n",
    "        k = int(file.readline())\n",
    "        Dna = file.readlines()\n",
    "        \n",
    "        # iterate through each Dna string\n",
    "        kmerList = []\n",
    "        for line in Dna:\n",
    "            String = line.strip('\\n')\n",
    "            for i in range(len(String) - k+1):\n",
    "                pattern = String[i:i+k]\n",
    "                if pattern not in kmerList:\n",
    "                    kmerList.append(pattern)\n",
    "            \n",
    "            # pattern that minimizes hamming distance\n",
    "            distance = float('inf')\n",
    "            for kmer in kmerList:\n",
    "                for i in range(len(String) - k+1):\n",
    "                    if distance > hamming(kmer, String[i:i+k]):\n",
    "                        distance = hamming(kmer, String[i:i+k])\n",
    "                        Median = kmer\n",
    "    return(Median)"
   ]
  },
  {
   "cell_type": "code",
   "execution_count": 4,
   "id": "cbf9ba88",
   "metadata": {},
   "outputs": [
    {
     "name": "stdout",
     "output_type": "stream",
     "text": [
      "AATATT\n"
     ]
    }
   ],
   "source": [
    "infile = 'dataset_158_9.txt'\n",
    "print(MedianString(infile))"
   ]
  },
  {
   "cell_type": "code",
   "execution_count": 9,
   "id": "183f88d1",
   "metadata": {},
   "outputs": [
    {
     "name": "stdout",
     "output_type": "stream",
     "text": [
      "0.2\n"
     ]
    }
   ],
   "source": [
    "profile = {\n",
    "    'A': [0.2, 0.2, 0.3, 0.2, 0.3],\n",
    "    'C': [0.4, 0.3, 0.1, 0.5, 0.1],\n",
    "    'G': [0.3, 0.3, 0.5, 0.2, 0.4],\n",
    "    'T': [0.1, 0.2, 0.1, 0.1, 0.2]\n",
    "}\n",
    "\n",
    "def MostProbable(profile, dna, k):\n",
    "    probability_counter=0\n",
    "    max_probability_index=0\n",
    "    dna_length = len(dna)\n",
    "    for i in range(dna_length - k):\n",
    "        current_kmer = dna[i:i+k]\n",
    "        probability_counter_current = 1\n",
    "        for j in range(len(current_kmer)):\n",
    "            probability_counter_current = probability_counter_current * profile[current_kmer[j]][j]\n",
    "        if probability_counter_current > probability_counter:\n",
    "            probability_counter = probability_counter_current\n",
    "            max_probability_index = i\n",
    "    \n",
    "    return dna[max_probability_index:max_probability_index+k]"
   ]
  },
  {
   "cell_type": "code",
   "execution_count": 10,
   "id": "2e64b640",
   "metadata": {},
   "outputs": [
    {
     "data": {
      "text/plain": [
       "'CCGAG'"
      ]
     },
     "execution_count": 10,
     "metadata": {},
     "output_type": "execute_result"
    }
   ],
   "source": [
    "MostProbable(profile, \"ACCTGTTTATTGCCTAAGTTCCGAACAAACCCAATATAGCCCGAGGGCCT\", 5)"
   ]
  },
  {
   "cell_type": "code",
   "execution_count": null,
   "id": "40aaeb8c",
   "metadata": {},
   "outputs": [],
   "source": [
    "def GreedyMotiveSearch(DNAs: list, k_mer_len: int, num_of_DNAs: int) -> list:\n",
    "    best_motifs = [DNA[0:k_mer_len] for DNA in DNAs]\n",
    "    for i in range(len(DNAs[0]) - k_mer_len + 1):\n",
    "        motif = DNAs[0][i: i + k_mer_len]\n",
    "        motifs = [motif]\n",
    "        for i in range(1, num_of_DNAs):\n",
    "            profile = []\n",
    "            prob_k_mer = profile_most_probable_k_mer(DNAs[i], k_mer_len, profile)\n",
    "            if prob_k_mer is None:\n",
    "                # If there is none most probable k_mer found\n",
    "                # we have to take the first k_mer of the DNA\n",
    "                prob_k_mer = DNAs[i][0:k_mer_len]\n",
    "            motifs.append(prob_k_mer)\n",
    "        if gen_score(motifs) < gen_score(best_motifs):\n",
    "            best_motifs = motifs\n",
    "    return best_motifs"
   ]
  }
 ],
 "metadata": {
  "kernelspec": {
   "display_name": "Python 3 (ipykernel)",
   "language": "python",
   "name": "python3"
  },
  "language_info": {
   "codemirror_mode": {
    "name": "ipython",
    "version": 3
   },
   "file_extension": ".py",
   "mimetype": "text/x-python",
   "name": "python",
   "nbconvert_exporter": "python",
   "pygments_lexer": "ipython3",
   "version": "3.9.9"
  }
 },
 "nbformat": 4,
 "nbformat_minor": 5
}
