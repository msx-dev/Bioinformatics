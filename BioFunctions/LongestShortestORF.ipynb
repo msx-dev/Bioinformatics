{
 "cells": [
  {
   "cell_type": "code",
   "execution_count": 1,
   "id": "13209882",
   "metadata": {},
   "outputs": [],
   "source": [
    "def find_longest_ORF(ORF):\n",
    "    ORF_longest = 0\n",
    "    ORF_sequence = \"\"\n",
    "    ORF_longest_id = \"\"\n",
    "    for ORF_id in ORF:\n",
    "        ORFs_length = len(ORF[ORF_id])\n",
    "        current_ORF_array = ORF[ORF_id]\n",
    "        for i in range(ORFs_length):\n",
    "            if len(current_ORF_array[i][0]) > ORF_longest:\n",
    "                ORF_longest = len(current_ORF_array[i][0])\n",
    "                ORF_sequence = current_ORF_array[i][0]\n",
    "                ORF_longest_id = ORF_id\n",
    "    return [ORF_longest, ORF_longest_id, ORF_sequence]"
   ]
  },
  {
   "cell_type": "code",
   "execution_count": null,
   "id": "825e00cf",
   "metadata": {},
   "outputs": [],
   "source": [
    "def find_shortest_ORF(ORF):\n",
    "    ORF_shortest = 10**14\n",
    "    ORF_sequence = \"\"\n",
    "    ORF_shortest_id = \"\"\n",
    "    for ORF_id in ORF:\n",
    "        ORFs_length = len(ORF[ORF_id])\n",
    "        current_ORF_array = ORF[ORF_id]\n",
    "        for i in range(ORFs_length):\n",
    "            if len(current_ORF_array[i][0]) < ORF_shortest:\n",
    "                ORF_shortest = len(current_ORF_array[i][0])\n",
    "                ORF_sequence = current_ORF_array[i][0]\n",
    "                ORF_shortest_id = ORF_id\n",
    "    return [ORF_shortest, ORF_shortest_id, ORF_sequence]"
   ]
  }
 ],
 "metadata": {
  "kernelspec": {
   "display_name": "Python 3 (ipykernel)",
   "language": "python",
   "name": "python3"
  },
  "language_info": {
   "codemirror_mode": {
    "name": "ipython",
    "version": 3
   },
   "file_extension": ".py",
   "mimetype": "text/x-python",
   "name": "python",
   "nbconvert_exporter": "python",
   "pygments_lexer": "ipython3",
   "version": "3.9.9"
  }
 },
 "nbformat": 4,
 "nbformat_minor": 5
}
