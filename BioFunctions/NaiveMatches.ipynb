{
 "cells": [
  {
   "cell_type": "code",
   "execution_count": 1,
   "id": "be54f4bd",
   "metadata": {},
   "outputs": [],
   "source": [
    "def reverseComplement(s):\n",
    "    complement = {'A': 'T', 'C': 'G', 'G': 'C', 'T': 'A', 'N': 'N'}\n",
    "    t = ''\n",
    "    for base in s:\n",
    "        t = complement[base] + t\n",
    "    return t"
   ]
  },
  {
   "cell_type": "code",
   "execution_count": null,
   "id": "221ef072",
   "metadata": {},
   "outputs": [],
   "source": [
    "def readGenome(filename):\n",
    "    genome = ''\n",
    "    with open(filename, 'r') as f:\n",
    "        for line in f:\n",
    "            # ignore header line with genome information\n",
    "            if not line[0] == '>':\n",
    "                genome += line.rstrip()\n",
    "    return genome"
   ]
  },
  {
   "cell_type": "code",
   "execution_count": 2,
   "id": "55baf650",
   "metadata": {},
   "outputs": [],
   "source": [
    "# p = sequence, t = genome\n",
    "def naive(p, t):\n",
    "    occurrences = []\n",
    "    for i in range(len(t) - len(p) + 1):  # loop over alignments\n",
    "        match = True\n",
    "        for j in range(len(p)):  # loop over characters\n",
    "            if t[i+j] != p[j]:  # compare characters\n",
    "                match = False\n",
    "                break\n",
    "        if match:\n",
    "            occurrences.append(i)  \n",
    "    return occurrences"
   ]
  },
  {
   "cell_type": "code",
   "execution_count": 3,
   "id": "0c1c925a",
   "metadata": {},
   "outputs": [],
   "source": [
    "# strand aware naive \n",
    "# p = sequence, t = genome\n",
    "def strandAwareNaive(p, t):\n",
    "    matches = naive(p,t)\n",
    "    pr = reverseComplement(p)\n",
    "    if pr != p:\n",
    "        reverse_matches = naive(pr, t)\n",
    "        matches += reverse_matches\n",
    "    return matches"
   ]
  },
  {
   "cell_type": "code",
   "execution_count": 4,
   "id": "002635f9",
   "metadata": {},
   "outputs": [],
   "source": [
    "# This function is essentialy same as strandAwareNaive, but it separates the reverse matches\n",
    "# p = sequence, t = genome\n",
    "def strandAwareNaiveSeparated(p, t):\n",
    "    matches = naive(p,t)\n",
    "    pr = reverseComplement(p)\n",
    "    if pr != p:\n",
    "        reverse_matches = naive(pr, t)\n",
    "        return matches, reverse_matches\n",
    "    return matches"
   ]
  },
  {
   "cell_type": "code",
   "execution_count": 5,
   "id": "c1a5c7d7",
   "metadata": {},
   "outputs": [],
   "source": [
    "# p = sequence, t = genome, m = maximum number of allowed mismatches\n",
    "def naiveMismatches(p, t, m):\n",
    "    occurrences = []\n",
    "    for i in range(len(t) - len(p) + 1):  # loop over alignments\n",
    "        match = True\n",
    "        mismatch = 0\n",
    "        for j in range(len(p)): \n",
    "            if t[i+j] != p[j]:\n",
    "                if mismatch == m: # mismatch setter\n",
    "                    match = False\n",
    "                    break\n",
    "                else:\n",
    "                    mismatch += 1\n",
    "        if match:\n",
    "            occurrences.append(i)  \n",
    "    return occurrences"
   ]
  }
 ],
 "metadata": {
  "kernelspec": {
   "display_name": "Python 3 (ipykernel)",
   "language": "python",
   "name": "python3"
  },
  "language_info": {
   "codemirror_mode": {
    "name": "ipython",
    "version": 3
   },
   "file_extension": ".py",
   "mimetype": "text/x-python",
   "name": "python",
   "nbconvert_exporter": "python",
   "pygments_lexer": "ipython3",
   "version": "3.9.9"
  }
 },
 "nbformat": 4,
 "nbformat_minor": 5
}
