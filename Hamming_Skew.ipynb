{
 "cells": [
  {
   "cell_type": "code",
   "execution_count": 1,
   "id": "3ca44859",
   "metadata": {},
   "outputs": [],
   "source": [
    "def hamming(dna1, dna2):\n",
    "    dna_length = len(dna1)\n",
    "    counter = 0\n",
    "    for i in range(dna_length):\n",
    "        if dna1[i] != dna2[i]:\n",
    "            counter +=1\n",
    "    return counter"
   ]
  },
  {
   "cell_type": "code",
   "execution_count": 31,
   "id": "85bcada4",
   "metadata": {},
   "outputs": [],
   "source": [
    "def skew(dna):\n",
    "    dna_length = len(dna)\n",
    "    skew = [0]\n",
    "    for i in range(dna_length):\n",
    "        if dna[i] == \"C\":\n",
    "            previous = skew[i]\n",
    "            new = previous - 1\n",
    "            skew.append(new)\n",
    "        elif dna[i] == \"G\":\n",
    "            previous = skew[i]\n",
    "            new = previous + 1\n",
    "            skew.append(new)\n",
    "        else:\n",
    "            new = skew[i]\n",
    "            skew.append(new)\n",
    "\n",
    "    min_value = min(skew)\n",
    "    minimums = [i for i, x in enumerate(skew) if x == min_value]\n",
    "    return skew, minimums"
   ]
  },
  {
   "cell_type": "code",
   "execution_count": 32,
   "id": "67fde83f",
   "metadata": {},
   "outputs": [
    {
     "data": {
      "text/plain": [
       "([0,\n",
       "  1,\n",
       "  0,\n",
       "  0,\n",
       "  0,\n",
       "  0,\n",
       "  -1,\n",
       "  -1,\n",
       "  -2,\n",
       "  -2,\n",
       "  -2,\n",
       "  -3,\n",
       "  -4,\n",
       "  -5,\n",
       "  -5,\n",
       "  -4,\n",
       "  -4,\n",
       "  -4,\n",
       "  -3,\n",
       "  -2,\n",
       "  -2,\n",
       "  -2,\n",
       "  -3,\n",
       "  -3,\n",
       "  -2],\n",
       " [13, 14])"
      ]
     },
     "execution_count": 32,
     "metadata": {},
     "output_type": "execute_result"
    }
   ],
   "source": [
    "skew(\"GCATACACTTCCCAGTAGGTACTG\")"
   ]
  },
  {
   "cell_type": "code",
   "execution_count": 21,
   "id": "65ab0c64",
   "metadata": {},
   "outputs": [
    {
     "name": "stdout",
     "output_type": "stream",
     "text": [
      "43\n"
     ]
    },
    {
     "data": {
      "text/plain": [
       "43"
      ]
     },
     "execution_count": 21,
     "metadata": {},
     "output_type": "execute_result"
    }
   ],
   "source": [
    "hamming(\"CTTGAAGTGGACCTCTAGTTCCTCTACAAAGAACAGGTTGACCTGTCGCGAAG\", \"ATGCCTTACCTAGATGCAATGACGGACGTATTCCTTTTGCCTCAACGGCTCCT\")"
   ]
  },
  {
   "cell_type": "code",
   "execution_count": 20,
   "id": "e56a4351",
   "metadata": {},
   "outputs": [
    {
     "name": "stdout",
     "output_type": "stream",
     "text": [
      "50\n"
     ]
    },
    {
     "data": {
      "text/plain": [
       "50"
      ]
     },
     "execution_count": 20,
     "metadata": {},
     "output_type": "execute_result"
    }
   ],
   "source": [
    "hamming(\"TGACCCGTTATGCTCGAGTTCGGTCAGAGCGTCATTGCGAGTAGTCGTTTGCTTTCTCAAACTCC\", \"GAGCGATTAAGCGTGACAGCCCCAGGGAACCCACAAAACGTGATCGCAGTCCATCCGATCATACA\")"
   ]
  },
  {
   "cell_type": "code",
   "execution_count": null,
   "id": "615f766e",
   "metadata": {},
   "outputs": [],
   "source": []
  }
 ],
 "metadata": {
  "kernelspec": {
   "display_name": "Python 3 (ipykernel)",
   "language": "python",
   "name": "python3"
  },
  "language_info": {
   "codemirror_mode": {
    "name": "ipython",
    "version": 3
   },
   "file_extension": ".py",
   "mimetype": "text/x-python",
   "name": "python",
   "nbconvert_exporter": "python",
   "pygments_lexer": "ipython3",
   "version": "3.9.9"
  }
 },
 "nbformat": 4,
 "nbformat_minor": 5
}
